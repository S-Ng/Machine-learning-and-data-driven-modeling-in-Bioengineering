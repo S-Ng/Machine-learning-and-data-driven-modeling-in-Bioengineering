{
 "cells": [
  {
   "cell_type": "markdown",
   "metadata": {},
   "source": [
    "# Week 1 - Introduction\n",
    "\n",
    "A quick introduction to git and python.\n",
    "\n",
    "Please run through this tutorial on [how git](https://try.github.io/) functions. Further reading on git [exists here](http://swcarpentry.github.io/git-novice/).\n",
    "\n",
    "For an introduction to python programming, please follow the tutorials [here](http://swcarpentry.github.io/python-novice-inflammation/) and [here](https://swcarpentry.github.io/python-novice-gapminder/).\n",
    "\n",
    "We will cover certain aspects of python programming and specific packages throughout the course. However, at the end of these tutorials, you should be comfortable with the exercises below."
   ]
  },
  {
   "cell_type": "code",
   "execution_count": 2,
   "metadata": {},
   "outputs": [],
   "source": [
    "%matplotlib inline\n",
    "import numpy as np\n",
    "from sklearn import datasets\n",
    "import matplotlib.pyplot as plt"
   ]
  },
  {
   "cell_type": "markdown",
   "metadata": {},
   "source": [
    "#### (1) Write a function that stores the first 100 numbers of the fibannaci sequence in a numpy array.\n",
    "\n",
    "Then write two assertions as tests of your function."
   ]
  },
  {
   "cell_type": "code",
   "execution_count": 57,
   "metadata": {},
   "outputs": [
    {
     "name": "stdout",
     "output_type": "stream",
     "text": [
      "[0.00000000e+00 1.00000000e+00 1.00000000e+00 2.00000000e+00\n",
      " 3.00000000e+00 5.00000000e+00 8.00000000e+00 1.30000000e+01\n",
      " 2.10000000e+01 3.40000000e+01 5.50000000e+01 8.90000000e+01\n",
      " 1.44000000e+02 2.33000000e+02 3.77000000e+02 6.10000000e+02\n",
      " 9.87000000e+02 1.59700000e+03 2.58400000e+03 4.18100000e+03\n",
      " 6.76500000e+03 1.09460000e+04 1.77110000e+04 2.86570000e+04\n",
      " 4.63680000e+04 7.50250000e+04 1.21393000e+05 1.96418000e+05\n",
      " 3.17811000e+05 5.14229000e+05 8.32040000e+05 1.34626900e+06\n",
      " 2.17830900e+06 3.52457800e+06 5.70288700e+06 9.22746500e+06\n",
      " 1.49303520e+07 2.41578170e+07 3.90881690e+07 6.32459860e+07\n",
      " 1.02334155e+08 1.65580141e+08 2.67914296e+08 4.33494437e+08\n",
      " 7.01408733e+08 1.13490317e+09 1.83631190e+09 2.97121507e+09\n",
      " 4.80752698e+09 7.77874205e+09 1.25862690e+10 2.03650111e+10\n",
      " 3.29512801e+10 5.33162912e+10 8.62675713e+10 1.39583862e+11\n",
      " 2.25851434e+11 3.65435296e+11 5.91286730e+11 9.56722026e+11\n",
      " 1.54800876e+12 2.50473078e+12 4.05273954e+12 6.55747032e+12\n",
      " 1.06102099e+13 1.71676802e+13 2.77778900e+13 4.49455702e+13\n",
      " 7.27234602e+13 1.17669030e+14 1.90392491e+14 3.08061521e+14\n",
      " 4.98454012e+14 8.06515533e+14 1.30496954e+15 2.11148508e+15\n",
      " 3.41645462e+15 5.52793970e+15 8.94439432e+15 1.44723340e+16\n",
      " 2.34167283e+16 3.78890624e+16 6.13057907e+16 9.91948531e+16\n",
      " 1.60500644e+17 2.59695497e+17 4.20196141e+17 6.79891638e+17\n",
      " 1.10008778e+18 1.77997942e+18 2.88006719e+18 4.66004661e+18\n",
      " 7.54011380e+18 1.22001604e+19 1.97402742e+19 3.19404346e+19\n",
      " 5.16807089e+19 8.36211435e+19 1.35301852e+20 2.18922996e+20]\n"
     ]
    }
   ],
   "source": [
    "fib = np.zeros(100)\n",
    "fib[0] = 0\n",
    "fib[1] = 1\n",
    "for i in range(2,100):\n",
    "    fib[i] = fib[i-2]+fib[i-1]\n",
    "print(fib)\n",
    "assert((fib[41]) == 165580141)\n",
    "assert((fib[80]) == 23416728348467685)"
   ]
  },
  {
   "cell_type": "markdown",
   "metadata": {},
   "source": [
    "#### (2) Import test.csv, and plot the data, labeling the X and Y axes."
   ]
  },
  {
   "cell_type": "code",
   "execution_count": 58,
   "metadata": {
    "scrolled": true
   },
   "outputs": [
    {
     "data": {
      "text/plain": [
       "Text(0.5, 0, 'Crime')"
      ]
     },
     "execution_count": 58,
     "metadata": {},
     "output_type": "execute_result"
    },
    {
     "data": {
      "image/png": "[encoded data removed]",
      "text/plain": [
       "<Figure size 432x288 with 1 Axes>"
      ]
     },
     "metadata": {
      "needs_background": "light"
     },
     "output_type": "display_data"
    }
   ],
   "source": [
    "boston = datasets.load_boston()\n",
    "y = boston.target\n",
    "x = boston.data[:, 0]\n",
    "ylabel = 'Home Prices'\n",
    "xlabel = 'Crime'\n",
    "\n",
    "plt.scatter(x,y,s=10)\n",
    "plt.ylabel(ylabel)\n",
    "plt.xlabel(xlabel)"
   ]
  },
  {
   "cell_type": "markdown",
   "metadata": {},
   "source": [
    "#### (3) Write a function that satisfies the assertions below."
   ]
  },
  {
   "cell_type": "code",
   "execution_count": 59,
   "metadata": {},
   "outputs": [],
   "source": [
    "def func(x,y):\n",
    "    a = 2*y+x\n",
    "    return a  \n",
    "\n",
    "assert(func(0, 20) == 40)\n",
    "assert(func(1, 10) == 21)\n",
    "assert(func(2, 5) == 12)\n",
    "assert(func(3, 2) == 7)\n",
    "assert(func(4, 1) == 6)"
   ]
  },
  {
   "cell_type": "markdown",
   "metadata": {},
   "source": [
    "#### (4) Briefly describe one skill and/or ability you would like to take away from this class."
   ]
  },
  {
   "cell_type": "markdown",
   "metadata": {},
   "source": [
    "I want to learn python and understand how to use code to create models."
   ]
  },
  {
   "cell_type": "markdown",
   "metadata": {},
   "source": [
    "#### (5) Describe your previous experience with programming, statistics, and modeling, including courses and which languages you've used. There is no wrong answer here—this will help us better tailor the class."
   ]
  },
  {
   "cell_type": "markdown",
   "metadata": {},
   "source": [
    "I have Matlab experience from C&EE M20. I continued using Matlab in the Khademhosseini lab to generate G-code for bioprinting, but it was mostly comprised of for loops. I've also used VBA for excel to automate spreadsheet manipulation for sustainability on the hill last summer. I haven't used C and I don't have statistics knowledge."
   ]
  },
  {
   "cell_type": "markdown",
   "metadata": {},
   "source": []
  },
  {
   "cell_type": "markdown",
   "metadata": {},
   "source": []
  },
  {
   "cell_type": "markdown",
   "metadata": {},
   "source": [
    "\n",
    "\n",
    "#### (6) Commit these files to git with a descriptive message."
   ]
  }
 ],
 "metadata": {
  "kernel_info": {
   "name": "python3"
  },
  "kernelspec": {
   "display_name": "Python 3",
   "language": "python",
   "name": "python3"
  },
  "language_info": {
   "codemirror_mode": {
    "name": "ipython",
    "version": 3
   },
   "file_extension": ".py",
   "mimetype": "text/x-python",
   "name": "python",
   "nbconvert_exporter": "python",
   "pygments_lexer": "ipython3",
   "version": "3.7.1"
  },
  "nteract": {
   "version": "0.3.4"
  }
 },
 "nbformat": 4,
 "nbformat_minor": 2
}
